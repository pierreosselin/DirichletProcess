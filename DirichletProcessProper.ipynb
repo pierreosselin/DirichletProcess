{
 "cells": [
  {
   "cell_type": "code",
   "execution_count": 51,
   "metadata": {},
   "outputs": [],
   "source": [
    "import numpy as np\n",
    "import matplotlib.pyplot as plt"
   ]
  },
  {
   "cell_type": "markdown",
   "metadata": {},
   "source": [
    "## Dirichlet Process Construction"
   ]
  },
  {
   "cell_type": "code",
   "execution_count": 118,
   "metadata": {},
   "outputs": [],
   "source": [
    "alpha = 100\n",
    "baseDistribution = np.random.normal"
   ]
  },
  {
   "cell_type": "code",
   "execution_count": 119,
   "metadata": {},
   "outputs": [],
   "source": [
    "# Base distribution : be able to sample from it\n",
    "def stickBreaking(alpha, baseDistribution):\n",
    "    val = [] ## Samples from baseditribution\n",
    "    density = []\n",
    "    currentVal = 1\n",
    "    while currentVal > 10**(-12):\n",
    "        sample = baseDistribution()\n",
    "        val.append(sample)\n",
    "        weight = np.random.beta(1, alpha)\n",
    "        density.append(weight*currentVal)\n",
    "        currentVal *= (1-weight)\n",
    "    return (val,density)"
   ]
  },
  {
   "cell_type": "code",
   "execution_count": 124,
   "metadata": {
    "scrolled": true
   },
   "outputs": [],
   "source": [
    "(val,density) = stickBreaking(alpha, baseDistribution)"
   ]
  },
  {
   "cell_type": "code",
   "execution_count": 125,
   "metadata": {},
   "outputs": [],
   "source": [
    "%matplotlib qt\n",
    "plt.bar(val, density, width = 0.1)\n",
    "plt.xlabel(\"x\")\n",
    "plt.ylabel(\"P\")\n",
    "plt.show()\n",
    "plt.savefig(\"Alpha1002\")"
   ]
  },
  {
   "cell_type": "markdown",
   "metadata": {},
   "source": [
    "## Dirichlet process for mixture"
   ]
  },
  {
   "cell_type": "code",
   "execution_count": null,
   "metadata": {},
   "outputs": [],
   "source": []
  }
 ],
 "metadata": {
  "kernelspec": {
   "display_name": "Python 3",
   "language": "python",
   "name": "python3"
  },
  "language_info": {
   "codemirror_mode": {
    "name": "ipython",
    "version": 3
   },
   "file_extension": ".py",
   "mimetype": "text/x-python",
   "name": "python",
   "nbconvert_exporter": "python",
   "pygments_lexer": "ipython3",
   "version": "3.7.4"
  }
 },
 "nbformat": 4,
 "nbformat_minor": 2
}
